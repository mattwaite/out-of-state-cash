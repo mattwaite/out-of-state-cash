{
 "cells": [
  {
   "cell_type": "code",
   "execution_count": 7,
   "metadata": {},
   "outputs": [],
   "source": [
    "import agate\n",
    "import warnings\n",
    "warnings.filterwarnings(\"ignore\")"
   ]
  },
  {
   "cell_type": "code",
   "execution_count": 8,
   "metadata": {},
   "outputs": [],
   "source": [
    "donations = agate.Table.from_csv('formb1ab.csv')"
   ]
  },
  {
   "cell_type": "code",
   "execution_count": 9,
   "metadata": {},
   "outputs": [
    {
     "name": "stdout",
     "output_type": "stream",
     "text": [
      "| column                        | data_type |\n",
      "| ----------------------------- | --------- |\n",
      "| Committee Name                | Text      |\n",
      "| Committee ID                  | Text      |\n",
      "| Date Received                 | Date      |\n",
      "| Type of Contributor           | Text      |\n",
      "| Contributor ID                | Text      |\n",
      "| Contribution Date             | Date      |\n",
      "| Cash Contribution             | Number    |\n",
      "| In-Kind Contribution          | Number    |\n",
      "| Unpaid Pledges                | Number    |\n",
      "| Contributor Last Name         | Text      |\n",
      "| Contributor First Name        | Text      |\n",
      "| Contributor Middle Initial    | Text      |\n",
      "| Contributor Organization Name | Text      |\n",
      "| Contributor Address           | Text      |\n",
      "| Contributor City              | Text      |\n",
      "| Contributor State             | Text      |\n",
      "| Contributor Zipcode           | Text      |\n",
      "\n"
     ]
    }
   ],
   "source": [
    "print(donations)"
   ]
  },
  {
   "cell_type": "code",
   "execution_count": 19,
   "metadata": {
    "collapsed": true
   },
   "outputs": [],
   "source": [
    "donations_since_2000 = donations.where(lambda row: 2000 <= row['Contribution Date'].year <= 2016)"
   ]
  },
  {
   "cell_type": "code",
   "execution_count": 20,
   "metadata": {},
   "outputs": [],
   "source": [
    "by_state = donations_since_2000.group_by('Contributor State')"
   ]
  },
  {
   "cell_type": "code",
   "execution_count": 21,
   "metadata": {},
   "outputs": [
    {
     "name": "stdout",
     "output_type": "stream",
     "text": [
      "| Contributor State |  count | average cash cont... |\n",
      "| ----------------- | ------ | -------------------- |\n",
      "| NE                | 88,687 |           1,020.513… |\n",
      "|                   |  1,924 |           1,241.672… |\n",
      "| IA                |  1,098 |             798.997… |\n",
      "| DC                |    910 |           4,381.145… |\n",
      "| TX                |    906 |           1,170.433… |\n",
      "| MO                |    686 |           1,243.817… |\n",
      "| IL                |    610 |           3,000.743… |\n",
      "| CO                |    552 |           1,386.991… |\n",
      "| NY                |    542 |           1,322.986… |\n",
      "| CA                |    419 |           3,065.049… |\n",
      "| VA                |    389 |           1,677.951… |\n",
      "| KS                |    362 |           1,194.319… |\n",
      "| MN                |    316 |           3,253.630… |\n",
      "| NC                |    314 |             915.335… |\n",
      "| GA                |    289 |           1,257.903… |\n",
      "| SD                |    225 |           1,054.566… |\n",
      "| WI                |    209 |           1,208.167… |\n",
      "| FL                |    199 |           1,545.338… |\n",
      "| AZ                |    198 |           1,667.354… |\n",
      "| AR                |    161 |           1,241.887… |\n",
      "| MI                |    146 |           1,901.954… |\n",
      "| OH                |    134 |           1,776.880… |\n",
      "| PA                |    128 |           1,076.838… |\n",
      "| NJ                |    125 |             602.839… |\n",
      "| IN                |    116 |           1,128.233… |\n",
      "| ...               |    ... |                  ... |\n"
     ]
    }
   ],
   "source": [
    "state_totals = by_state.aggregate([\n",
    "    ('count', agate.Count()),\n",
    "    ('average cash contribution', agate.Mean('Cash Contribution'))\n",
    "])\n",
    "\n",
    "sorted_totals = state_totals.order_by('count', reverse=True)\n",
    "\n",
    "sorted_totals.print_table(max_rows=25)\n"
   ]
  },
  {
   "cell_type": "code",
   "execution_count": 34,
   "metadata": {},
   "outputs": [],
   "source": [
    "def in_state(row):\n",
    "    if row['Contributor State'] == \"NE\":\n",
    "        locale = \"In-state\"\n",
    "    else:\n",
    "        locale = \"Out-of-state\"\n",
    "    return locale\n",
    "\n",
    "contribs_by_locale = donations_since_2000.compute([\n",
    "    ('locale', agate.Formula(agate.Text(), in_state)),\n",
    "    ('year', agate.Formula(agate.Number(), lambda row: '%i' % row['Contribution Date'].year))\n",
    "])"
   ]
  },
  {
   "cell_type": "code",
   "execution_count": 35,
   "metadata": {},
   "outputs": [
    {
     "name": "stdout",
     "output_type": "stream",
     "text": [
      "| column                        | data_type |\n",
      "| ----------------------------- | --------- |\n",
      "| Committee Name                | Text      |\n",
      "| Committee ID                  | Text      |\n",
      "| Date Received                 | Date      |\n",
      "| Type of Contributor           | Text      |\n",
      "| Contributor ID                | Text      |\n",
      "| Contribution Date             | Date      |\n",
      "| Cash Contribution             | Number    |\n",
      "| In-Kind Contribution          | Number    |\n",
      "| Unpaid Pledges                | Number    |\n",
      "| Contributor Last Name         | Text      |\n",
      "| Contributor First Name        | Text      |\n",
      "| Contributor Middle Initial    | Text      |\n",
      "| Contributor Organization Name | Text      |\n",
      "| Contributor Address           | Text      |\n",
      "| Contributor City              | Text      |\n",
      "| Contributor State             | Text      |\n",
      "| Contributor Zipcode           | Text      |\n",
      "| locale                        | Text      |\n",
      "| year                          | Number    |\n",
      "\n"
     ]
    }
   ],
   "source": [
    "print(contribs_by_locale)"
   ]
  },
  {
   "cell_type": "code",
   "execution_count": 36,
   "metadata": {},
   "outputs": [
    {
     "name": "stdout",
     "output_type": "stream",
     "text": [
      "| Committee Name       | Committee ID | Date Received | Type of Contributor | Contributor ID | Contribution Date | ... |\n",
      "| -------------------- | ------------ | ------------- | ------------------- | -------------- | ----------------- | --- |\n",
      "| CITIZENS FOR NORT... | 99BQC00037   |    2000-03-03 | I                   | 99CON02096     |        2000-02-29 | ... |\n",
      "| CITIZENS FOR NORT... | 99BQC00037   |    2000-03-03 | I                   | 99CON02093     |        2000-01-21 | ... |\n",
      "| CITIZENS FOR NORT... | 99BQC00037   |    2000-03-03 | I                   | 99CON01145     |        2000-01-26 | ... |\n",
      "| CITIZENS FOR NORT... | 99BQC00037   |    2000-03-03 | I                   | 99CON02094     |        2000-02-16 | ... |\n",
      "| CITIZENS FOR NORT... | 99BQC00037   |    2000-03-03 | I                   | 99CON02095     |        2000-02-16 | ... |\n",
      "| ...                  | ...          |           ... | ...                 | ...            |               ... | ... |\n"
     ]
    }
   ],
   "source": [
    "contribs_by_locale.print_table(max_rows=5)"
   ]
  },
  {
   "cell_type": "code",
   "execution_count": 37,
   "metadata": {
    "collapsed": true
   },
   "outputs": [],
   "source": [
    "by_locale_by_year = contribs_by_locale.group_by('locale').group_by('year')"
   ]
  },
  {
   "cell_type": "code",
   "execution_count": 38,
   "metadata": {
    "collapsed": true
   },
   "outputs": [],
   "source": [
    "locale_totals = by_locale_by_year.aggregate([\n",
    "    ('count', agate.Count()),\n",
    "    ('average cash contribution', agate.Mean('Cash Contribution'))\n",
    "])"
   ]
  },
  {
   "cell_type": "code",
   "execution_count": 55,
   "metadata": {},
   "outputs": [
    {
     "name": "stdout",
     "output_type": "stream",
     "text": [
      "| locale       |  year |  count | average cash cont... |\n",
      "| ------------ | ----- | ------ | -------------------- |\n",
      "| In-state     | 2,000 |  3,330 |             946.076… |\n",
      "| In-state     | 2,001 |  3,972 |             922.352… |\n",
      "| In-state     | 2,002 |  4,469 |             867.462… |\n",
      "| In-state     | 2,003 |  1,956 |             671.867… |\n",
      "| In-state     | 2,004 |  3,498 |           1,935.598… |\n",
      "| In-state     | 2,005 |  4,698 |             870.634… |\n",
      "| In-state     | 2,006 |  8,235 |           1,104.711… |\n",
      "| In-state     | 2,007 |  3,439 |             734.352… |\n",
      "| In-state     | 2,008 |  5,313 |             828.067… |\n",
      "| In-state     | 2,009 |  5,485 |             846.334… |\n",
      "| In-state     | 2,010 |  6,023 |             828.565… |\n",
      "| In-state     | 2,011 |  2,367 |             809.634… |\n",
      "| In-state     | 2,012 |  5,944 |             864.884… |\n",
      "| In-state     | 2,013 |  6,151 |           1,140.225… |\n",
      "| In-state     | 2,014 | 12,879 |           1,277.459… |\n",
      "| In-state     | 2,015 |  4,096 |           1,044.081… |\n",
      "| In-state     | 2,016 |  6,832 |           1,021.273… |\n",
      "| Out-of-state | 2,000 |  1,017 |           1,078.244… |\n",
      "| Out-of-state | 2,001 |    426 |             982.086… |\n",
      "| Out-of-state | 2,002 |    527 |             847.303… |\n",
      "| Out-of-state | 2,003 |    251 |             653.973… |\n",
      "| Out-of-state | 2,004 |    531 |           7,969.453… |\n",
      "| Out-of-state | 2,005 |    611 |           1,430.321… |\n",
      "| Out-of-state | 2,006 |    869 |           7,760.572… |\n",
      "| Out-of-state | 2,007 |    430 |             814.551… |\n",
      "| Out-of-state | 2,008 |    708 |           1,812.813… |\n",
      "| Out-of-state | 2,009 |    643 |           1,555.753… |\n",
      "| Out-of-state | 2,010 |    679 |             883.443… |\n",
      "| Out-of-state | 2,011 |    394 |             752.216… |\n",
      "| Out-of-state | 2,012 |    936 |             735.965… |\n",
      "| Out-of-state | 2,013 |    858 |           3,438.500… |\n",
      "| Out-of-state | 2,014 |  1,646 |           2,209.352… |\n",
      "| Out-of-state | 2,015 |    499 |           2,572.022… |\n",
      "| Out-of-state | 2,016 |  1,054 |           2,780.889… |\n"
     ]
    }
   ],
   "source": [
    "locale_totals.order_by(['locale', 'year']).print_table(max_rows=50)"
   ]
  },
  {
   "cell_type": "code",
   "execution_count": 49,
   "metadata": {},
   "outputs": [
    {
     "data": {
      "image/svg+xml": [
       "<svg height=\"600\" version=\"1.1\" width=\"800\" xmlns=\"http://www.w3.org/2000/svg\"><g><rect fill=\"#f9f9f9\" height=\"600\" width=\"800\" x=\"0\" y=\"0\"/><g transform=\"translate(40 40)\"><g transform=\"translate(70 0)\"/><g transform=\"translate(0 0)\"><g transform=\"translate(70 0)\"><g class=\"axis bottom\"><text dy=\"1em\" fill=\"#666\" font-family=\"Monaco\" text-anchor=\"middle\" transform=\"\" x=\"325.0\" y=\"506.0\">year</text><g class=\"tick\"><line stroke=\"#eee\" stroke-width=\"1\" x1=\"0\" x2=\"0\" y1=\"0\" y2=\"472.0\"/><text dy=\"1em\" fill=\"#9c9c9c\" font-family=\"Monaco\" text-anchor=\"middle\" x=\"0\" y=\"476.0\">2000</text></g><g class=\"tick\"><line stroke=\"#eee\" stroke-width=\"1\" x1=\"162.50\" x2=\"162.50\" y1=\"0\" y2=\"472.0\"/><text dy=\"1em\" fill=\"#9c9c9c\" font-family=\"Monaco\" text-anchor=\"middle\" x=\"162.50\" y=\"476.0\">2005</text></g><g class=\"tick\"><line stroke=\"#eee\" stroke-width=\"1\" x1=\"325.0\" x2=\"325.0\" y1=\"0\" y2=\"472.0\"/><text dy=\"1em\" fill=\"#9c9c9c\" font-family=\"Monaco\" text-anchor=\"middle\" x=\"325.0\" y=\"476.0\">2010</text></g><g class=\"tick\"><line stroke=\"#eee\" stroke-width=\"1\" x1=\"487.50\" x2=\"487.50\" y1=\"0\" y2=\"472.0\"/><text dy=\"1em\" fill=\"#9c9c9c\" font-family=\"Monaco\" text-anchor=\"middle\" x=\"487.50\" y=\"476.0\">2015</text></g><g class=\"tick\"><line stroke=\"#eee\" stroke-width=\"1\" x1=\"650\" x2=\"650\" y1=\"0\" y2=\"472.0\"/><text dy=\"1em\" fill=\"#9c9c9c\" font-family=\"Monaco\" text-anchor=\"middle\" x=\"650\" y=\"476.0\">2020</text></g></g><g class=\"axis left\"><text dy=\"\" fill=\"#666\" font-family=\"Monaco\" text-anchor=\"middle\" transform=\"rotate(270 -48 234)\" x=\"-48\" y=\"234.0\">count</text><g class=\"tick\"><line stroke=\"#eee\" stroke-width=\"1\" x1=\"-4\" x2=\"650.0\" y1=\"351.00\" y2=\"351.00\"/><text dy=\"0.32em\" fill=\"#9c9c9c\" font-family=\"Monaco\" text-anchor=\"end\" x=\"-8\" y=\"351.00\">500</text></g><g class=\"tick\"><line stroke=\"#eee\" stroke-width=\"1\" x1=\"-4\" x2=\"650.0\" y1=\"234.0\" y2=\"234.0\"/><text dy=\"0.32em\" fill=\"#9c9c9c\" font-family=\"Monaco\" text-anchor=\"end\" x=\"-8\" y=\"234.0\">1000</text></g><g class=\"tick\"><line stroke=\"#eee\" stroke-width=\"1\" x1=\"-4\" x2=\"650.0\" y1=\"117.00\" y2=\"117.00\"/><text dy=\"0.32em\" fill=\"#9c9c9c\" font-family=\"Monaco\" text-anchor=\"end\" x=\"-8\" y=\"117.00\">1500</text></g><g class=\"tick\"><line stroke=\"#eee\" stroke-width=\"1\" x1=\"-4\" x2=\"650.0\" y1=\"0\" y2=\"0\"/><text dy=\"0.32em\" fill=\"#9c9c9c\" font-family=\"Monaco\" text-anchor=\"end\" x=\"-8\" y=\"0\">2000</text></g><g class=\"tick\"><line stroke=\"#a8a8a8\" stroke-width=\"1\" x1=\"-4\" x2=\"650.0\" y1=\"468\" y2=\"468\"/><text dy=\"0.32em\" fill=\"#9c9c9c\" font-family=\"Monaco\" text-anchor=\"end\" x=\"-8\" y=\"468\">0</text></g></g><g><g class=\"series lines\"><path d=\"M 0 230.0220 L 32.50 368.316 L 65.0 344.6820 L 97.50 409.2660 L 130.0 343.7460 L 162.50 325.0260 L 195.0 264.6540 L 227.50 367.380 L 260.0 302.328 L 292.50 317.5380 L 325.0 309.1140 L 357.50 375.804 L 390.0 248.976 L 422.50 267.228 L 455.0 82.836 L 487.50 351.2340 L 520.0 221.364\" fill=\"none\" stroke=\"#e41a1c\" stroke-width=\"2\"/></g></g></g></g></g></g></svg>"
      ],
      "text/plain": [
       "<IPython.core.display.SVG object>"
      ]
     },
     "execution_count": 49,
     "metadata": {},
     "output_type": "execute_result"
    }
   ],
   "source": [
    "locale_totals.where(lambda row: row['locale'] == \"Out-of-state\").line_chart('year', 'count')"
   ]
  },
  {
   "cell_type": "code",
   "execution_count": 56,
   "metadata": {},
   "outputs": [
    {
     "data": {
      "image/svg+xml": [
       "<svg height=\"600\" version=\"1.1\" width=\"800\" xmlns=\"http://www.w3.org/2000/svg\"><g><rect fill=\"#f9f9f9\" height=\"600\" width=\"800\" x=\"0\" y=\"0\"/><g transform=\"translate(40 40)\"><g transform=\"translate(70 0)\"/><g transform=\"translate(0 0)\"><g transform=\"translate(70 0)\"><g class=\"axis bottom\"><text dy=\"1em\" fill=\"#666\" font-family=\"Monaco\" text-anchor=\"middle\" transform=\"\" x=\"325.0\" y=\"506.0\">year</text><g class=\"tick\"><line stroke=\"#eee\" stroke-width=\"1\" x1=\"0\" x2=\"0\" y1=\"0\" y2=\"472.0\"/><text dy=\"1em\" fill=\"#9c9c9c\" font-family=\"Monaco\" text-anchor=\"middle\" x=\"0\" y=\"476.0\">2000</text></g><g class=\"tick\"><line stroke=\"#eee\" stroke-width=\"1\" x1=\"162.50\" x2=\"162.50\" y1=\"0\" y2=\"472.0\"/><text dy=\"1em\" fill=\"#9c9c9c\" font-family=\"Monaco\" text-anchor=\"middle\" x=\"162.50\" y=\"476.0\">2005</text></g><g class=\"tick\"><line stroke=\"#eee\" stroke-width=\"1\" x1=\"325.0\" x2=\"325.0\" y1=\"0\" y2=\"472.0\"/><text dy=\"1em\" fill=\"#9c9c9c\" font-family=\"Monaco\" text-anchor=\"middle\" x=\"325.0\" y=\"476.0\">2010</text></g><g class=\"tick\"><line stroke=\"#eee\" stroke-width=\"1\" x1=\"487.50\" x2=\"487.50\" y1=\"0\" y2=\"472.0\"/><text dy=\"1em\" fill=\"#9c9c9c\" font-family=\"Monaco\" text-anchor=\"middle\" x=\"487.50\" y=\"476.0\">2015</text></g><g class=\"tick\"><line stroke=\"#eee\" stroke-width=\"1\" x1=\"650\" x2=\"650\" y1=\"0\" y2=\"472.0\"/><text dy=\"1em\" fill=\"#9c9c9c\" font-family=\"Monaco\" text-anchor=\"middle\" x=\"650\" y=\"476.0\">2020</text></g></g><g class=\"axis left\"><text dy=\"\" fill=\"#666\" font-family=\"Monaco\" text-anchor=\"middle\" transform=\"rotate(270 -48 234)\" x=\"-48\" y=\"234.0\">average cash contribution</text><g class=\"tick\"><line stroke=\"#eee\" stroke-width=\"1\" x1=\"-4\" x2=\"650.0\" y1=\"351.00\" y2=\"351.00\"/><text dy=\"0.32em\" fill=\"#9c9c9c\" font-family=\"Monaco\" text-anchor=\"end\" x=\"-8\" y=\"351.00\">2000</text></g><g class=\"tick\"><line stroke=\"#eee\" stroke-width=\"1\" x1=\"-4\" x2=\"650.0\" y1=\"234.0\" y2=\"234.0\"/><text dy=\"0.32em\" fill=\"#9c9c9c\" font-family=\"Monaco\" text-anchor=\"end\" x=\"-8\" y=\"234.0\">4000</text></g><g class=\"tick\"><line stroke=\"#eee\" stroke-width=\"1\" x1=\"-4\" x2=\"650.0\" y1=\"117.00\" y2=\"117.00\"/><text dy=\"0.32em\" fill=\"#9c9c9c\" font-family=\"Monaco\" text-anchor=\"end\" x=\"-8\" y=\"117.00\">6000</text></g><g class=\"tick\"><line stroke=\"#eee\" stroke-width=\"1\" x1=\"-4\" x2=\"650.0\" y1=\"0\" y2=\"0\"/><text dy=\"0.32em\" fill=\"#9c9c9c\" font-family=\"Monaco\" text-anchor=\"end\" x=\"-8\" y=\"0\">8000</text></g><g class=\"tick\"><line stroke=\"#a8a8a8\" stroke-width=\"1\" x1=\"-4\" x2=\"650.0\" y1=\"468\" y2=\"468\"/><text dy=\"0.32em\" fill=\"#9c9c9c\" font-family=\"Monaco\" text-anchor=\"end\" x=\"-8\" y=\"468\">0</text></g></g><g><g class=\"series lines\"><path d=\"M 0 404.9227327876106194690265487 L 32.50 410.5479945422535211267605634 L 65.0 418.4328034724857685009487666 L 97.50 429.7426022891566265060240964 L 130.0 1.7869803707224334600760456 L 162.50 384.3262172146507666098807495 L 195.0 14.0065098021582733812949640 L 227.50 420.3487691457286432160804020 L 260.0 361.9504650447093889716840536 L 292.50 376.9884413592233009708737864 L 325.0 416.318574672 L 357.50 423.9953439868421052631578947 L 390.0 424.9460611804008908685968820 L 422.50 266.8477668749999999999999999 L 455.0 338.7528920949720670391061452 L 487.50 317.5366840490797546012269939 L 520.0 305.3180057707317073170731707\" fill=\"none\" stroke=\"#e41a1c\" stroke-width=\"2\"/></g></g></g></g></g></g></svg>"
      ],
      "text/plain": [
       "<IPython.core.display.SVG object>"
      ]
     },
     "execution_count": 56,
     "metadata": {},
     "output_type": "execute_result"
    }
   ],
   "source": [
    "locale_totals.where(lambda row: row['locale'] == \"Out-of-state\").line_chart('year', 'average cash contribution')"
   ]
  },
  {
   "cell_type": "code",
   "execution_count": null,
   "metadata": {
    "collapsed": true
   },
   "outputs": [],
   "source": []
  }
 ],
 "metadata": {
  "kernelspec": {
   "display_name": "Python 3",
   "language": "python",
   "name": "python3"
  },
  "language_info": {
   "codemirror_mode": {
    "name": "ipython",
    "version": 3
   },
   "file_extension": ".py",
   "mimetype": "text/x-python",
   "name": "python",
   "nbconvert_exporter": "python",
   "pygments_lexer": "ipython3",
   "version": "3.6.1"
  }
 },
 "nbformat": 4,
 "nbformat_minor": 2
}
